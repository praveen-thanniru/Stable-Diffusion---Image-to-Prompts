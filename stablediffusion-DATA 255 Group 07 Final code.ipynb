{
 "cells": [
  {
   "cell_type": "markdown",
   "id": "3f583bef",
   "metadata": {
    "papermill": {
     "duration": 0.009016,
     "end_time": "2023-05-08T14:11:26.667183",
     "exception": false,
     "start_time": "2023-05-08T14:11:26.658167",
     "status": "completed"
    },
    "tags": []
   },
   "source": [
    "# CLIP Interrogator"
   ]
  },
  {
   "cell_type": "markdown",
   "id": "469e9990",
   "metadata": {
    "papermill": {
     "duration": 0.007458,
     "end_time": "2023-05-08T14:11:26.682530",
     "exception": false,
     "start_time": "2023-05-08T14:11:26.675072",
     "status": "completed"
    },
    "tags": []
   },
   "source": [
    "This notebook used some codes from LEONID KULYK (https://www.kaggle.com/code/leonidkulyk/lb-0-45836-blip-clip-clip-interrogator) \n",
    "and made some changes in ensembling CLIP and ViT models\n",
    "\n",
    "modified Interrogator function taken from the original\n",
    "https://github.com/pharmapsychotic/clip-interrogator/blob/main/clip_interrogator/clip_interrogator.py#L213\n",
    "\n"
   ]
  },
  {
   "cell_type": "code",
   "execution_count": 1,
   "id": "8b6d9442",
   "metadata": {
    "execution": {
     "iopub.execute_input": "2023-05-08T14:11:26.712777Z",
     "iopub.status.busy": "2023-05-08T14:11:26.712129Z",
     "iopub.status.idle": "2023-05-08T14:11:26.736193Z",
     "shell.execute_reply": "2023-05-08T14:11:26.732100Z"
    },
    "papermill": {
     "duration": 0.048126,
     "end_time": "2023-05-08T14:11:26.742089",
     "exception": false,
     "start_time": "2023-05-08T14:11:26.693963",
     "status": "completed"
    },
    "tags": []
   },
   "outputs": [],
   "source": [
    "wheels_path = \"/kaggle/input/clip-interrogator-wheels-x\"\n",
    "CI_wheel_path = f\"{wheels_path}/clip_interrogator-0.4.3-py3-none-any.whl\""
   ]
  },
  {
   "cell_type": "code",
   "execution_count": 2,
   "id": "a47b8dfb",
   "metadata": {
    "_kg_hide-output": true,
    "execution": {
     "iopub.execute_input": "2023-05-08T14:11:26.772373Z",
     "iopub.status.busy": "2023-05-08T14:11:26.771932Z",
     "iopub.status.idle": "2023-05-08T14:11:54.904120Z",
     "shell.execute_reply": "2023-05-08T14:11:54.902921Z"
    },
    "papermill": {
     "duration": 28.149952,
     "end_time": "2023-05-08T14:11:54.906702",
     "exception": false,
     "start_time": "2023-05-08T14:11:26.756750",
     "status": "completed"
    },
    "tags": []
   },
   "outputs": [
    {
     "name": "stdout",
     "output_type": "stream",
     "text": [
      "\u001b[31mERROR: pip's dependency resolver does not currently take into account all the packages that are installed. This behaviour is the source of the following dependency conflicts.\r\n",
      "tensorflow-io 0.21.0 requires tensorflow-io-gcs-filesystem==0.21.0, which is not installed.\r\n",
      "beatrix-jupyterlab 3.1.7 requires google-cloud-bigquery-storage, which is not installed.\r\n",
      "tfx-bsl 1.9.0 requires google-api-python-client<2,>=1.7.11, but you have google-api-python-client 2.52.0 which is incompatible.\r\n",
      "tfx-bsl 1.9.0 requires tensorflow!=2.0.*,!=2.1.*,!=2.2.*,!=2.3.*,!=2.4.*,!=2.5.*,!=2.6.*,!=2.7.*,!=2.8.*,<3,>=1.15.5, but you have tensorflow 2.6.4 which is incompatible.\r\n",
      "tensorflow 2.6.4 requires h5py~=3.1.0, but you have h5py 3.8.0 which is incompatible.\r\n",
      "tensorflow 2.6.4 requires numpy~=1.19.2, but you have numpy 1.21.6 which is incompatible.\r\n",
      "tensorflow 2.6.4 requires typing-extensions<3.11,>=3.7, but you have typing-extensions 4.1.1 which is incompatible.\r\n",
      "tensorflow-transform 1.9.0 requires tensorflow!=2.0.*,!=2.1.*,!=2.2.*,!=2.3.*,!=2.4.*,!=2.5.*,!=2.6.*,!=2.7.*,!=2.8.*,<2.10,>=1.15.5, but you have tensorflow 2.6.4 which is incompatible.\r\n",
      "tensorflow-serving-api 2.9.0 requires tensorflow<3,>=2.9.0, but you have tensorflow 2.6.4 which is incompatible.\r\n",
      "tensorboardx 2.5.1 requires protobuf<=3.20.1,>=3.8.0, but you have protobuf 3.20.3 which is incompatible.\r\n",
      "ortools 9.5.2237 requires protobuf>=4.21.5, but you have protobuf 3.20.3 which is incompatible.\r\n",
      "onnx 1.12.0 requires protobuf<=3.20.1,>=3.12.2, but you have protobuf 3.20.3 which is incompatible.\r\n",
      "nnabla 1.33.0 requires protobuf<=3.19.4; platform_system != \"Windows\", but you have protobuf 3.20.3 which is incompatible.\r\n",
      "gcsfs 2022.5.0 requires fsspec==2022.5.0, but you have fsspec 2023.1.0 which is incompatible.\r\n",
      "apache-beam 2.40.0 requires dill<0.3.2,>=0.3.1.1, but you have dill 0.3.6 which is incompatible.\r\n",
      "allennlp 2.10.1 requires fairscale==0.4.6, but you have fairscale 0.4.4 which is incompatible.\u001b[0m\u001b[31m\r\n",
      "\u001b[0m\u001b[33mWARNING: Running pip as the 'root' user can result in broken permissions and conflicting behaviour with the system package manager. It is recommended to use a virtual environment instead: https://pip.pypa.io/warnings/venv\u001b[0m\u001b[33m\r\n",
      "\u001b[0m"
     ]
    }
   ],
   "source": [
    "!pip install --no-index --find-links $wheels_path $CI_wheel_path -q"
   ]
  },
  {
   "cell_type": "markdown",
   "id": "e1fa0b51",
   "metadata": {
    "papermill": {
     "duration": 0.00915,
     "end_time": "2023-05-08T14:11:54.924232",
     "exception": false,
     "start_time": "2023-05-08T14:11:54.915082",
     "status": "completed"
    },
    "tags": []
   },
   "source": [
    "Importing necessary libraries"
   ]
  },
  {
   "cell_type": "code",
   "execution_count": 3,
   "id": "2f676201",
   "metadata": {
    "_kg_hide-input": true,
    "execution": {
     "iopub.execute_input": "2023-05-08T14:11:54.941461Z",
     "iopub.status.busy": "2023-05-08T14:11:54.941062Z",
     "iopub.status.idle": "2023-05-08T14:11:58.115712Z",
     "shell.execute_reply": "2023-05-08T14:11:58.114665Z"
    },
    "papermill": {
     "duration": 3.186204,
     "end_time": "2023-05-08T14:11:58.118214",
     "exception": false,
     "start_time": "2023-05-08T14:11:54.932010",
     "status": "completed"
    },
    "tags": []
   },
   "outputs": [],
   "source": [
    "import inspect\n",
    "import importlib\n",
    "\n",
    "from blip.models import blip\n",
    "from clip_interrogator import clip_interrogator"
   ]
  },
  {
   "cell_type": "code",
   "execution_count": 4,
   "id": "d4b0086c",
   "metadata": {
    "_kg_hide-input": true,
    "_kg_hide-output": true,
    "execution": {
     "iopub.execute_input": "2023-05-08T14:11:58.135756Z",
     "iopub.status.busy": "2023-05-08T14:11:58.135178Z",
     "iopub.status.idle": "2023-05-08T14:11:58.155186Z",
     "shell.execute_reply": "2023-05-08T14:11:58.154177Z"
    },
    "papermill": {
     "duration": 0.031016,
     "end_time": "2023-05-08T14:11:58.157356",
     "exception": false,
     "start_time": "2023-05-08T14:11:58.126340",
     "status": "completed"
    },
    "tags": []
   },
   "outputs": [
    {
     "data": {
      "text/plain": [
       "<module 'blip.models.blip' from '/opt/conda/lib/python3.7/site-packages/blip/models/blip.py'>"
      ]
     },
     "execution_count": 4,
     "metadata": {},
     "output_type": "execute_result"
    }
   ],
   "source": [
    "# replace tokenizer path to prevent downloading\n",
    "blip_tokenizer_path = inspect.getfile(blip)\n",
    "\n",
    "file_in = open(blip_tokenizer_path, \"rt\")\n",
    "dt = file_in.read()\n",
    "dt = dt.replace(\n",
    "    \"BertTokenizer.from_pretrained('bert-base-uncased')\", \n",
    "    \"BertTokenizer.from_pretrained('/kaggle/input/clip-interrogator-models-x/bert-base-uncased')\"\n",
    ")\n",
    "file_in.close()\n",
    "\n",
    "file_in = open(blip_tokenizer_path, \"wt\")\n",
    "file_in.write(dt)\n",
    "file_in.close()\n",
    "\n",
    "# reload module\n",
    "importlib.reload(blip)"
   ]
  },
  {
   "cell_type": "code",
   "execution_count": 5,
   "id": "57939934",
   "metadata": {
    "_kg_hide-input": true,
    "_kg_hide-output": true,
    "execution": {
     "iopub.execute_input": "2023-05-08T14:11:58.174459Z",
     "iopub.status.busy": "2023-05-08T14:11:58.174129Z",
     "iopub.status.idle": "2023-05-08T14:11:58.188634Z",
     "shell.execute_reply": "2023-05-08T14:11:58.187665Z"
    },
    "papermill": {
     "duration": 0.025307,
     "end_time": "2023-05-08T14:11:58.190605",
     "exception": false,
     "start_time": "2023-05-08T14:11:58.165298",
     "status": "completed"
    },
    "tags": []
   },
   "outputs": [
    {
     "data": {
      "text/plain": [
       "<module 'clip_interrogator.clip_interrogator' from '/opt/conda/lib/python3.7/site-packages/clip_interrogator/clip_interrogator.py'>"
      ]
     },
     "execution_count": 5,
     "metadata": {},
     "output_type": "execute_result"
    }
   ],
   "source": [
    "# fix clip_interrogator bug\n",
    "CI_path = inspect.getfile(clip_interrogator.Interrogator)\n",
    "\n",
    "file_in = open(CI_path, \"rt\")\n",
    "dt = file_in.read()\n",
    "dt = dt.replace(\n",
    "    'open_clip.get_tokenizer(clip_model_name)', \n",
    "    'open_clip.get_tokenizer(config.clip_model_name.split(\"/\", 2)[0])'\n",
    ")\n",
    "file_in.close()\n",
    "\n",
    "file_in = open(CI_path, \"wt\")\n",
    "file_in.write(dt)\n",
    "file_in.close()\n",
    "\n",
    "# reload module\n",
    "importlib.reload(clip_interrogator)"
   ]
  },
  {
   "cell_type": "code",
   "execution_count": 6,
   "id": "48592a08",
   "metadata": {
    "execution": {
     "iopub.execute_input": "2023-05-08T14:11:58.208415Z",
     "iopub.status.busy": "2023-05-08T14:11:58.207511Z",
     "iopub.status.idle": "2023-05-08T14:11:59.767063Z",
     "shell.execute_reply": "2023-05-08T14:11:59.766093Z"
    },
    "papermill": {
     "duration": 1.57158,
     "end_time": "2023-05-08T14:11:59.770074",
     "exception": false,
     "start_time": "2023-05-08T14:11:58.198494",
     "status": "completed"
    },
    "tags": []
   },
   "outputs": [],
   "source": [
    "import os\n",
    "import sys\n",
    "from PIL import Image\n",
    "from pathlib import Path\n",
    "import matplotlib.pyplot as plt \n",
    "\n",
    "import numpy as np\n",
    "import pandas as pd\n",
    "import torch\n",
    "import open_clip\n",
    "\n",
    "\n",
    "sys.path.append('../input/sentence-transformers-222/sentence-transformers')\n",
    "from sentence_transformers import SentenceTransformer, models\n",
    "\n",
    "competition_path = Path('/kaggle/input/stable-diffusion-image-to-prompts/')"
   ]
  },
  {
   "cell_type": "markdown",
   "id": "9f8559cb",
   "metadata": {
    "papermill": {
     "duration": 0.011674,
     "end_time": "2023-05-08T14:11:59.794734",
     "exception": false,
     "start_time": "2023-05-08T14:11:59.783060",
     "status": "completed"
    },
    "tags": []
   },
   "source": [
    "Configuration"
   ]
  },
  {
   "cell_type": "code",
   "execution_count": 7,
   "id": "ebfd90f3",
   "metadata": {
    "execution": {
     "iopub.execute_input": "2023-05-08T14:11:59.818359Z",
     "iopub.status.busy": "2023-05-08T14:11:59.817997Z",
     "iopub.status.idle": "2023-05-08T14:11:59.823430Z",
     "shell.execute_reply": "2023-05-08T14:11:59.822466Z"
    },
    "papermill": {
     "duration": 0.016446,
     "end_time": "2023-05-08T14:11:59.825490",
     "exception": false,
     "start_time": "2023-05-08T14:11:59.809044",
     "status": "completed"
    },
    "tags": []
   },
   "outputs": [],
   "source": [
    "class CONFIGURE:\n",
    "    device = \"cuda\"\n",
    "    seed = 42\n",
    "    len_embedding = 384\n",
    "    sent_mod_path = \"/kaggle/input/sentence-transformers-222/all-MiniLM-L6-v2\"\n",
    "    blip_mod_path = \"/kaggle/input/clip-interrogator-models-x/model_large_caption.pth\"\n",
    "    ci_clip_mod_name = \"ViT-H-14/laion2b_s32b_b79k\"\n",
    "    clip_mod_name = \"ViT-H-14\"\n",
    "    clip_mod_path = \"/kaggle/input/clip-interrogator-models-x/CLIP-ViT-H-14-laion2B-s32B-b79K/open_clip_pytorch_model.bin\"\n",
    "    path_cache = \"/kaggle/input/clip-interrogator-models-x\""
   ]
  },
  {
   "cell_type": "code",
   "execution_count": 8,
   "id": "12f046a8",
   "metadata": {
    "execution": {
     "iopub.execute_input": "2023-05-08T14:11:59.842711Z",
     "iopub.status.busy": "2023-05-08T14:11:59.842420Z",
     "iopub.status.idle": "2023-05-08T14:11:59.872947Z",
     "shell.execute_reply": "2023-05-08T14:11:59.871895Z"
    },
    "papermill": {
     "duration": 0.041552,
     "end_time": "2023-05-08T14:11:59.875299",
     "exception": false,
     "start_time": "2023-05-08T14:11:59.833747",
     "status": "completed"
    },
    "tags": []
   },
   "outputs": [
    {
     "data": {
      "text/html": [
       "<div>\n",
       "<style scoped>\n",
       "    .dataframe tbody tr th:only-of-type {\n",
       "        vertical-align: middle;\n",
       "    }\n",
       "\n",
       "    .dataframe tbody tr th {\n",
       "        vertical-align: top;\n",
       "    }\n",
       "\n",
       "    .dataframe thead th {\n",
       "        text-align: right;\n",
       "    }\n",
       "</style>\n",
       "<table border=\"1\" class=\"dataframe\">\n",
       "  <thead>\n",
       "    <tr style=\"text-align: right;\">\n",
       "      <th></th>\n",
       "      <th>val</th>\n",
       "    </tr>\n",
       "    <tr>\n",
       "      <th>imgId_eId</th>\n",
       "      <th></th>\n",
       "    </tr>\n",
       "  </thead>\n",
       "  <tbody>\n",
       "    <tr>\n",
       "      <th>20057f34d_0</th>\n",
       "      <td>0.018848</td>\n",
       "    </tr>\n",
       "    <tr>\n",
       "      <th>20057f34d_1</th>\n",
       "      <td>0.030190</td>\n",
       "    </tr>\n",
       "    <tr>\n",
       "      <th>20057f34d_2</th>\n",
       "      <td>0.072792</td>\n",
       "    </tr>\n",
       "    <tr>\n",
       "      <th>20057f34d_3</th>\n",
       "      <td>-0.000673</td>\n",
       "    </tr>\n",
       "    <tr>\n",
       "      <th>20057f34d_4</th>\n",
       "      <td>0.016774</td>\n",
       "    </tr>\n",
       "  </tbody>\n",
       "</table>\n",
       "</div>"
      ],
      "text/plain": [
       "                  val\n",
       "imgId_eId            \n",
       "20057f34d_0  0.018848\n",
       "20057f34d_1  0.030190\n",
       "20057f34d_2  0.072792\n",
       "20057f34d_3 -0.000673\n",
       "20057f34d_4  0.016774"
      ]
     },
     "execution_count": 8,
     "metadata": {},
     "output_type": "execute_result"
    }
   ],
   "source": [
    "submission_data = pd.read_csv(competition_path / 'sample_submission.csv', index_col='imgId_eId')\n",
    "submission_data.head()"
   ]
  },
  {
   "cell_type": "code",
   "execution_count": 9,
   "id": "cad83e4d",
   "metadata": {
    "execution": {
     "iopub.execute_input": "2023-05-08T14:11:59.893140Z",
     "iopub.status.busy": "2023-05-08T14:11:59.892817Z",
     "iopub.status.idle": "2023-05-08T14:11:59.905257Z",
     "shell.execute_reply": "2023-05-08T14:11:59.904336Z"
    },
    "papermill": {
     "duration": 0.02371,
     "end_time": "2023-05-08T14:11:59.907210",
     "exception": false,
     "start_time": "2023-05-08T14:11:59.883500",
     "status": "completed"
    },
    "tags": []
   },
   "outputs": [],
   "source": [
    "images = os.listdir(competition_path / 'images')\n",
    "imgIds = [i.split('.')[0] for i in images]\n",
    "\n",
    "eIds = list(range(CONFIGURE.len_embedding))\n",
    "\n",
    "imgId_eId = [\n",
    "    '_'.join(map(str, i)) for i in zip(\n",
    "        np.repeat(imgIds, CONFIGURE.len_embedding),\n",
    "        np.tile(range(CONFIGURE.len_embedding), len(imgIds))\n",
    "    )\n",
    "]\n",
    "\n",
    "assert sorted(imgId_eId) == sorted(submission_data.index)"
   ]
  },
  {
   "cell_type": "code",
   "execution_count": 10,
   "id": "ff2ac759",
   "metadata": {
    "execution": {
     "iopub.execute_input": "2023-05-08T14:11:59.926514Z",
     "iopub.status.busy": "2023-05-08T14:11:59.925657Z",
     "iopub.status.idle": "2023-05-08T14:12:01.632276Z",
     "shell.execute_reply": "2023-05-08T14:12:01.631225Z"
    },
    "papermill": {
     "duration": 1.720226,
     "end_time": "2023-05-08T14:12:01.635733",
     "exception": false,
     "start_time": "2023-05-08T14:11:59.915507",
     "status": "completed"
    },
    "tags": []
   },
   "outputs": [],
   "source": [
    "sentence_model = SentenceTransformer(CONFIGURE.sent_mod_path)"
   ]
  },
  {
   "cell_type": "code",
   "execution_count": 11,
   "id": "6da27f0d",
   "metadata": {
    "execution": {
     "iopub.execute_input": "2023-05-08T14:12:01.671251Z",
     "iopub.status.busy": "2023-05-08T14:12:01.670868Z",
     "iopub.status.idle": "2023-05-08T14:12:01.676260Z",
     "shell.execute_reply": "2023-05-08T14:12:01.675087Z"
    },
    "papermill": {
     "duration": 0.027237,
     "end_time": "2023-05-08T14:12:01.681789",
     "exception": false,
     "start_time": "2023-05-08T14:12:01.654552",
     "status": "completed"
    },
    "tags": []
   },
   "outputs": [],
   "source": [
    "model_configuration = clip_interrogator.Config(clip_model_name=CONFIGURE.ci_clip_mod_name)\n",
    "model_configuration.cache_path = CONFIGURE.path_cache"
   ]
  },
  {
   "cell_type": "code",
   "execution_count": 12,
   "id": "7bd75533",
   "metadata": {
    "execution": {
     "iopub.execute_input": "2023-05-08T14:12:01.714786Z",
     "iopub.status.busy": "2023-05-08T14:12:01.714340Z",
     "iopub.status.idle": "2023-05-08T14:12:32.906204Z",
     "shell.execute_reply": "2023-05-08T14:12:32.905076Z"
    },
    "papermill": {
     "duration": 31.212494,
     "end_time": "2023-05-08T14:12:32.908743",
     "exception": false,
     "start_time": "2023-05-08T14:12:01.696249",
     "status": "completed"
    },
    "tags": []
   },
   "outputs": [
    {
     "name": "stdout",
     "output_type": "stream",
     "text": [
      "load checkpoint from /kaggle/input/clip-interrogator-models-x/model_large_caption.pth\n"
     ]
    }
   ],
   "source": [
    "configurations_path = os.path.join(os.path.dirname(os.path.dirname(blip_tokenizer_path)), 'configs')\n",
    "med_json_config = os.path.join(configurations_path, 'med_config.json')\n",
    "blip_model = blip.blip_decoder(\n",
    "    pretrained=CONFIGURE.blip_mod_path,\n",
    "    image_size=model_configuration.blip_image_eval_size, \n",
    "    vit=model_configuration.blip_model_type, \n",
    "    med_config=med_json_config\n",
    ")\n",
    "blip_model.eval()\n",
    "blip_model = blip_model.to(model_configuration.device)\n",
    "model_configuration.blip_model = blip_model"
   ]
  },
  {
   "cell_type": "code",
   "execution_count": 13,
   "id": "da6b0713",
   "metadata": {
    "execution": {
     "iopub.execute_input": "2023-05-08T14:12:32.927519Z",
     "iopub.status.busy": "2023-05-08T14:12:32.927134Z",
     "iopub.status.idle": "2023-05-08T14:13:21.206239Z",
     "shell.execute_reply": "2023-05-08T14:13:21.205164Z"
    },
    "papermill": {
     "duration": 48.291076,
     "end_time": "2023-05-08T14:13:21.208739",
     "exception": false,
     "start_time": "2023-05-08T14:12:32.917663",
     "status": "completed"
    },
    "tags": []
   },
   "outputs": [],
   "source": [
    "clip_model = open_clip.create_model(CONFIGURE.clip_mod_name, precision='fp16' if model_configuration.device == 'cuda' else 'fp32')\n",
    "open_clip.load_checkpoint(clip_model, CONFIGURE.clip_mod_path)\n",
    "clip_model.to(model_configuration.device).eval()\n",
    "model_configuration.clip_model = clip_model"
   ]
  },
  {
   "cell_type": "code",
   "execution_count": 14,
   "id": "d452296b",
   "metadata": {
    "execution": {
     "iopub.execute_input": "2023-05-08T14:13:21.228625Z",
     "iopub.status.busy": "2023-05-08T14:13:21.226880Z",
     "iopub.status.idle": "2023-05-08T14:13:21.233102Z",
     "shell.execute_reply": "2023-05-08T14:13:21.232176Z"
    },
    "papermill": {
     "duration": 0.01739,
     "end_time": "2023-05-08T14:13:21.235052",
     "exception": false,
     "start_time": "2023-05-08T14:13:21.217662",
     "status": "completed"
    },
    "tags": []
   },
   "outputs": [],
   "source": [
    "clip_preprocess = open_clip.image_transform(\n",
    "    clip_model.visual.image_size,\n",
    "    is_train = False,\n",
    "    mean = getattr(clip_model.visual, 'image_mean', None),\n",
    "    std = getattr(clip_model.visual, 'image_std', None),\n",
    ")\n",
    "model_configuration.clip_preprocess = clip_preprocess"
   ]
  },
  {
   "cell_type": "code",
   "execution_count": 15,
   "id": "ed27af46",
   "metadata": {
    "execution": {
     "iopub.execute_input": "2023-05-08T14:13:21.252310Z",
     "iopub.status.busy": "2023-05-08T14:13:21.252010Z",
     "iopub.status.idle": "2023-05-08T14:13:23.705363Z",
     "shell.execute_reply": "2023-05-08T14:13:23.704355Z"
    },
    "papermill": {
     "duration": 2.46458,
     "end_time": "2023-05-08T14:13:23.707792",
     "exception": false,
     "start_time": "2023-05-08T14:13:21.243212",
     "status": "completed"
    },
    "tags": []
   },
   "outputs": [
    {
     "name": "stdout",
     "output_type": "stream",
     "text": [
      "Loaded CLIP model and data in 2.45 seconds.\n"
     ]
    }
   ],
   "source": [
    "ci = clip_interrogator.Interrogator(model_configuration)"
   ]
  },
  {
   "cell_type": "code",
   "execution_count": 16,
   "id": "712e0bc3",
   "metadata": {
    "execution": {
     "iopub.execute_input": "2023-05-08T14:13:23.727318Z",
     "iopub.status.busy": "2023-05-08T14:13:23.725611Z",
     "iopub.status.idle": "2023-05-08T14:13:24.280316Z",
     "shell.execute_reply": "2023-05-08T14:13:24.279316Z"
    },
    "papermill": {
     "duration": 0.56644,
     "end_time": "2023-05-08T14:13:24.282717",
     "exception": false,
     "start_time": "2023-05-08T14:13:23.716277",
     "status": "completed"
    },
    "tags": []
   },
   "outputs": [],
   "source": [
    "cos_sim = torch.nn.CosineSimilarity(dim=1)\n",
    "\n",
    "mediums_features_array = torch.stack([torch.from_numpy(t) for t in ci.mediums.embeds]).to(ci.device)\n",
    "movements_features_array = torch.stack([torch.from_numpy(t) for t in ci.movements.embeds]).to(ci.device)\n",
    "flavors_features_array = torch.stack([torch.from_numpy(t) for t in ci.flavors.embeds]).to(ci.device)\n",
    "#artists_features_array = torch.stack([torch.from_numpy(t) for t in ci.artists.embeds]).to(ci.device)"
   ]
  },
  {
   "cell_type": "code",
   "execution_count": 17,
   "id": "4411c685",
   "metadata": {
    "execution": {
     "iopub.execute_input": "2023-05-08T14:13:24.301858Z",
     "iopub.status.busy": "2023-05-08T14:13:24.300286Z",
     "iopub.status.idle": "2023-05-08T14:13:24.308096Z",
     "shell.execute_reply": "2023-05-08T14:13:24.307207Z"
    },
    "papermill": {
     "duration": 0.018921,
     "end_time": "2023-05-08T14:13:24.310010",
     "exception": false,
     "start_time": "2023-05-08T14:13:24.291089",
     "status": "completed"
    },
    "tags": []
   },
   "outputs": [],
   "source": [
    "def interrogate(image: Image) -> str:\n",
    "    caption = ci.generate_caption(image)\n",
    "    image_features = ci.image_to_features(image)\n",
    "    \n",
    "    medium = [ci.mediums.labels[i] for i in cos_sim(image_features, mediums_features_array).topk(1).indices][0]\n",
    "    movement = [ci.movements.labels[i] for i in cos_sim(image_features, movements_features_array).topk(1).indices][0]\n",
    "    flaves = \", \".join([ci.flavors.labels[i] for i in cos_sim(image_features, flavors_features_array).topk(3).indices])\n",
    "\n",
    "    if caption.startswith(medium):\n",
    "        prompt = f\"{caption}, {movement}, {flaves}\"\n",
    "    else:\n",
    "        prompt = f\"{caption}, {medium}, {movement}, {flaves}\"\n",
    "\n",
    "    return clip_interrogator._truncate_to_fit(prompt, ci.tokenize)"
   ]
  },
  {
   "cell_type": "code",
   "execution_count": 18,
   "id": "4ff8cfe0",
   "metadata": {
    "execution": {
     "iopub.execute_input": "2023-05-08T14:13:24.328790Z",
     "iopub.status.busy": "2023-05-08T14:13:24.327337Z",
     "iopub.status.idle": "2023-05-08T14:13:40.276346Z",
     "shell.execute_reply": "2023-05-08T14:13:40.275136Z"
    },
    "papermill": {
     "duration": 15.96074,
     "end_time": "2023-05-08T14:13:40.278981",
     "exception": false,
     "start_time": "2023-05-08T14:13:24.318241",
     "status": "completed"
    },
    "tags": []
   },
   "outputs": [],
   "source": [
    "prompts = []\n",
    "\n",
    "images_path = \"../input/stable-diffusion-image-to-prompts/images/\"\n",
    "for image_name in images:\n",
    "    img = Image.open(images_path + image_name).convert(\"RGB\")\n",
    "\n",
    "    generated = interrogate(img)\n",
    "    \n",
    "    prompts.append(generated)"
   ]
  },
  {
   "cell_type": "code",
   "execution_count": 19,
   "id": "edfd4d68",
   "metadata": {
    "execution": {
     "iopub.execute_input": "2023-05-08T14:13:40.297829Z",
     "iopub.status.busy": "2023-05-08T14:13:40.297509Z",
     "iopub.status.idle": "2023-05-08T14:13:40.304490Z",
     "shell.execute_reply": "2023-05-08T14:13:40.303493Z"
    },
    "papermill": {
     "duration": 0.018572,
     "end_time": "2023-05-08T14:13:40.306565",
     "exception": false,
     "start_time": "2023-05-08T14:13:40.287993",
     "status": "completed"
    },
    "tags": []
   },
   "outputs": [],
   "source": [
    "def add_text_limiters(text: str) -> str:\n",
    "    return \" \".join([\n",
    "        word + \"\\n\" if i % 15 == 0 else word \n",
    "        for i, word in enumerate(text.split(\" \"), start=1)\n",
    "    ])\n",
    "\n",
    "def plot_image(image: np.ndarray, original_prompt: str, generated_prompt: str) -> None:\n",
    "    plt.figure(figsize=(10, 10))\n",
    "    plt.imshow(image)\n",
    "    plt.annotate(\n",
    "        \"Original prompt:\\n\" + add_text_limiters(original_prompt) + \"\\n\\nGenerated prompt:\\n\" + add_text_limiters(generated_prompt), \n",
    "        xy=(1.05, 0.5), xycoords='axes fraction', ha='left', va='center', \n",
    "        fontsize=16, rotation=0, color=\"#104a6e\"\n",
    "    )"
   ]
  },
  {
   "cell_type": "code",
   "execution_count": 20,
   "id": "731e9330",
   "metadata": {
    "execution": {
     "iopub.execute_input": "2023-05-08T14:13:40.323978Z",
     "iopub.status.busy": "2023-05-08T14:13:40.323691Z",
     "iopub.status.idle": "2023-05-08T14:13:40.327983Z",
     "shell.execute_reply": "2023-05-08T14:13:40.327040Z"
    },
    "papermill": {
     "duration": 0.015374,
     "end_time": "2023-05-08T14:13:40.330083",
     "exception": false,
     "start_time": "2023-05-08T14:13:40.314709",
     "status": "completed"
    },
    "tags": []
   },
   "outputs": [],
   "source": [
    "# DO NOT FORGET TO COMMENT OUT THIS CELL DURING SUBMISSION\n",
    "\n",
    "# original_prompts_df = pd.read_csv(\"/kaggle/input/stable-diffusion-image-to-prompts/prompts.csv\")\n",
    "\n",
    "# for image_name, prompt in zip(images, prompts):\n",
    "#     img = Image.open(images_path + image_name).convert(\"RGB\")\n",
    "#     original_prompt = original_prompts_df[\n",
    "#         original_prompts_df.imgId == image_name.split(\".\")[0]\n",
    "#     ].prompt.iloc[0]\n",
    "#     plot_image(img, original_prompt, prompt)"
   ]
  },
  {
   "cell_type": "code",
   "execution_count": 21,
   "id": "b50ecae9",
   "metadata": {
    "execution": {
     "iopub.execute_input": "2023-05-08T14:13:40.348208Z",
     "iopub.status.busy": "2023-05-08T14:13:40.347391Z",
     "iopub.status.idle": "2023-05-08T14:13:40.453060Z",
     "shell.execute_reply": "2023-05-08T14:13:40.452186Z"
    },
    "papermill": {
     "duration": 0.116875,
     "end_time": "2023-05-08T14:13:40.455268",
     "exception": false,
     "start_time": "2023-05-08T14:13:40.338393",
     "status": "completed"
    },
    "tags": []
   },
   "outputs": [
    {
     "data": {
      "application/vnd.jupyter.widget-view+json": {
       "model_id": "58aad7225a63497ea129966eb24cf020",
       "version_major": 2,
       "version_minor": 0
      },
      "text/plain": [
       "Batches:   0%|          | 0/1 [00:00<?, ?it/s]"
      ]
     },
     "metadata": {},
     "output_type": "display_data"
    }
   ],
   "source": [
    "clip_embeddings = sentence_model.encode(prompts).flatten()"
   ]
  },
  {
   "cell_type": "markdown",
   "id": "af5847b5",
   "metadata": {
    "papermill": {
     "duration": 0.007946,
     "end_time": "2023-05-08T14:13:40.471739",
     "exception": false,
     "start_time": "2023-05-08T14:13:40.463793",
     "status": "completed"
    },
    "tags": []
   },
   "source": [
    "# ViT"
   ]
  },
  {
   "cell_type": "code",
   "execution_count": 22,
   "id": "b7a83847",
   "metadata": {
    "execution": {
     "iopub.execute_input": "2023-05-08T14:13:40.489704Z",
     "iopub.status.busy": "2023-05-08T14:13:40.488865Z",
     "iopub.status.idle": "2023-05-08T14:13:40.494306Z",
     "shell.execute_reply": "2023-05-08T14:13:40.493273Z"
    },
    "papermill": {
     "duration": 0.016398,
     "end_time": "2023-05-08T14:13:40.496264",
     "exception": false,
     "start_time": "2023-05-08T14:13:40.479866",
     "status": "completed"
    },
    "tags": []
   },
   "outputs": [],
   "source": [
    "import numpy as np\n",
    "import pandas as pd\n",
    "from pathlib import Path\n",
    "from PIL import Image\n",
    "from tqdm.notebook import tqdm\n",
    "import torch\n",
    "from torch import nn\n",
    "from torch.utils.data import Dataset, DataLoader\n",
    "from torchvision import transforms\n",
    "import timm"
   ]
  },
  {
   "cell_type": "code",
   "execution_count": 23,
   "id": "26d0eefd",
   "metadata": {
    "execution": {
     "iopub.execute_input": "2023-05-08T14:13:40.514082Z",
     "iopub.status.busy": "2023-05-08T14:13:40.513514Z",
     "iopub.status.idle": "2023-05-08T14:13:40.521491Z",
     "shell.execute_reply": "2023-05-08T14:13:40.520462Z"
    },
    "papermill": {
     "duration": 0.0192,
     "end_time": "2023-05-08T14:13:40.523538",
     "exception": false,
     "start_time": "2023-05-08T14:13:40.504338",
     "status": "completed"
    },
    "tags": []
   },
   "outputs": [],
   "source": [
    "class CustomViT(nn.Module):\n",
    "    def __init__(self, backbone, num_classes=384):\n",
    "        super(CustomViT, self).__init__()\n",
    "        self.backbone = backbone\n",
    "        self.backbone.head = nn.Identity()  # Remove the original classification head\n",
    "        \n",
    "        # Adding custom layers\n",
    "        self.fc1 = nn.Linear(backbone.num_features, 1024)\n",
    "        self.dropout1 = nn.Dropout(0.5)\n",
    "        self.activation1 = nn.GELU()\n",
    "        self.fc2 = nn.Linear(1024, 512)\n",
    "        self.dropout2 = nn.Dropout(0.5)\n",
    "        self.activation2 = nn.GELU()\n",
    "        self.fc3 = nn.Linear(512, num_classes)\n",
    "\n",
    "    def forward(self, x):\n",
    "        x = self.backbone(x)\n",
    "        x = self.fc1(x)\n",
    "        x = self.dropout1(x)\n",
    "        x = self.activation1(x)\n",
    "        x = self.fc2(x)\n",
    "        x = self.dropout2(x)\n",
    "        x = self.activation2(x)\n",
    "        x = self.fc3(x)\n",
    "        return x\n"
   ]
  },
  {
   "cell_type": "code",
   "execution_count": 24,
   "id": "b332259a",
   "metadata": {
    "execution": {
     "iopub.execute_input": "2023-05-08T14:13:40.542280Z",
     "iopub.status.busy": "2023-05-08T14:13:40.540810Z",
     "iopub.status.idle": "2023-05-08T14:13:40.546025Z",
     "shell.execute_reply": "2023-05-08T14:13:40.545130Z"
    },
    "papermill": {
     "duration": 0.016381,
     "end_time": "2023-05-08T14:13:40.548049",
     "exception": false,
     "start_time": "2023-05-08T14:13:40.531668",
     "status": "completed"
    },
    "tags": []
   },
   "outputs": [],
   "source": [
    "class CFG:\n",
    "    model_path = '/kaggle/input/trained-vit-3/vit_best_model_3ep.pth'\n",
    "    model_name = 'vit_base_patch16_224'\n",
    "    input_size = 224\n",
    "    batch_size = 64\n"
   ]
  },
  {
   "cell_type": "code",
   "execution_count": 25,
   "id": "5c6392a5",
   "metadata": {
    "execution": {
     "iopub.execute_input": "2023-05-08T14:13:40.571512Z",
     "iopub.status.busy": "2023-05-08T14:13:40.570619Z",
     "iopub.status.idle": "2023-05-08T14:13:40.586454Z",
     "shell.execute_reply": "2023-05-08T14:13:40.584027Z"
    },
    "papermill": {
     "duration": 0.033675,
     "end_time": "2023-05-08T14:13:40.590308",
     "exception": false,
     "start_time": "2023-05-08T14:13:40.556633",
     "status": "completed"
    },
    "tags": []
   },
   "outputs": [],
   "source": [
    "class DiffusionTestDataset(Dataset):\n",
    "    def __init__(self, images, transform):\n",
    "        self.images = images\n",
    "        self.transform = transform\n",
    "    \n",
    "    def __len__(self):\n",
    "        return len(self.images)\n",
    "\n",
    "    def __getitem__(self, idx):\n",
    "        image = Image.open(self.images[idx])\n",
    "        image = self.transform(image)\n",
    "        return image\n",
    "\n",
    "def load_model(model_path, model_name):\n",
    "    backbone = timm.create_model(model_name, pretrained=False)\n",
    "    model = CustomViT(backbone)\n",
    "    model.load_state_dict(torch.load(model_path))\n",
    "    model.eval()\n",
    "    return model\n",
    "\n"
   ]
  },
  {
   "cell_type": "code",
   "execution_count": 26,
   "id": "b8eeb0d9",
   "metadata": {
    "execution": {
     "iopub.execute_input": "2023-05-08T14:13:40.635689Z",
     "iopub.status.busy": "2023-05-08T14:13:40.635153Z",
     "iopub.status.idle": "2023-05-08T14:13:40.653594Z",
     "shell.execute_reply": "2023-05-08T14:13:40.652431Z"
    },
    "papermill": {
     "duration": 0.042166,
     "end_time": "2023-05-08T14:13:40.655723",
     "exception": false,
     "start_time": "2023-05-08T14:13:40.613557",
     "status": "completed"
    },
    "tags": []
   },
   "outputs": [],
   "source": [
    "def predict(images, model_path, model_name, input_size, batch_size):\n",
    "    device = torch.device('cuda' if torch.cuda.is_available() else 'cpu')\n",
    "    transform = transforms.Compose([\n",
    "        transforms.Resize(input_size),\n",
    "        transforms.ToTensor(),\n",
    "        transforms.Normalize([0.485, 0.456, 0.406], [0.229, 0.224, 0.225]),\n",
    "    ])\n",
    "    dataset = DiffusionTestDataset(images, transform)\n",
    "    dataloader = DataLoader(\n",
    "        dataset=dataset,\n",
    "        shuffle=False,\n",
    "        batch_size=batch_size,\n",
    "        pin_memory=True,\n",
    "        num_workers=2,\n",
    "        drop_last=False\n",
    "    )\n",
    "\n",
    "    model = load_model(model_path, model_name)\n",
    "    model.to(device)\n",
    "    model.eval()\n",
    "    \n",
    "    preds = []\n",
    "    for X in tqdm(dataloader, leave=False):\n",
    "        X = X.to(device)\n",
    "\n",
    "        with torch.no_grad():\n",
    "            X_out = model(X)\n",
    "            preds.append(X_out.cpu().numpy())\n",
    "    \n",
    "    return np.vstack(preds).flatten()\n",
    "\n",
    "\n"
   ]
  },
  {
   "cell_type": "code",
   "execution_count": 27,
   "id": "2e1191bb",
   "metadata": {
    "execution": {
     "iopub.execute_input": "2023-05-08T14:13:40.687112Z",
     "iopub.status.busy": "2023-05-08T14:13:40.685210Z",
     "iopub.status.idle": "2023-05-08T14:13:40.713172Z",
     "shell.execute_reply": "2023-05-08T14:13:40.711917Z"
    },
    "papermill": {
     "duration": 0.049033,
     "end_time": "2023-05-08T14:13:40.716341",
     "exception": false,
     "start_time": "2023-05-08T14:13:40.667308",
     "status": "completed"
    },
    "tags": []
   },
   "outputs": [],
   "source": [
    "images = list(Path('/kaggle/input/stable-diffusion-image-to-prompts/images').glob('*.png'))\n",
    "imgIds = [i.stem for i in images]\n",
    "EMBEDDING_LENGTH = 384\n",
    "imgId_eId = [\n",
    "    '_'.join(map(str, i)) for i in zip(\n",
    "        np.repeat(imgIds, EMBEDDING_LENGTH),\n",
    "        np.tile(range(EMBEDDING_LENGTH), len(imgIds)))]\n"
   ]
  },
  {
   "cell_type": "code",
   "execution_count": 28,
   "id": "6d4bcb46",
   "metadata": {
    "execution": {
     "iopub.execute_input": "2023-05-08T14:13:40.749272Z",
     "iopub.status.busy": "2023-05-08T14:13:40.748759Z",
     "iopub.status.idle": "2023-05-08T14:13:45.621392Z",
     "shell.execute_reply": "2023-05-08T14:13:45.620213Z"
    },
    "papermill": {
     "duration": 4.888592,
     "end_time": "2023-05-08T14:13:45.623897",
     "exception": false,
     "start_time": "2023-05-08T14:13:40.735305",
     "status": "completed"
    },
    "tags": []
   },
   "outputs": [
    {
     "data": {
      "application/vnd.jupyter.widget-view+json": {
       "model_id": "00cc3fa82ddd49d19ac0abfbb4b0efce",
       "version_major": 2,
       "version_minor": 0
      },
      "text/plain": [
       "  0%|          | 0/1 [00:00<?, ?it/s]"
      ]
     },
     "metadata": {},
     "output_type": "display_data"
    }
   ],
   "source": [
    "prompt_embeddings = predict(images, CFG.model_path, CFG.model_name, CFG.input_size, CFG.batch_size)\n"
   ]
  },
  {
   "cell_type": "code",
   "execution_count": 29,
   "id": "258d7239",
   "metadata": {
    "execution": {
     "iopub.execute_input": "2023-05-08T14:13:45.643826Z",
     "iopub.status.busy": "2023-05-08T14:13:45.643434Z",
     "iopub.status.idle": "2023-05-08T14:13:45.650216Z",
     "shell.execute_reply": "2023-05-08T14:13:45.649295Z"
    },
    "papermill": {
     "duration": 0.019096,
     "end_time": "2023-05-08T14:13:45.652101",
     "exception": false,
     "start_time": "2023-05-08T14:13:45.633005",
     "status": "completed"
    },
    "tags": []
   },
   "outputs": [
    {
     "data": {
      "text/plain": [
       "2688"
      ]
     },
     "execution_count": 29,
     "metadata": {},
     "output_type": "execute_result"
    }
   ],
   "source": [
    "len(prompt_embeddings)"
   ]
  },
  {
   "cell_type": "code",
   "execution_count": 30,
   "id": "2d58bf71",
   "metadata": {
    "execution": {
     "iopub.execute_input": "2023-05-08T14:13:45.670873Z",
     "iopub.status.busy": "2023-05-08T14:13:45.670039Z",
     "iopub.status.idle": "2023-05-08T14:13:45.674526Z",
     "shell.execute_reply": "2023-05-08T14:13:45.673515Z"
    },
    "papermill": {
     "duration": 0.015989,
     "end_time": "2023-05-08T14:13:45.676515",
     "exception": false,
     "start_time": "2023-05-08T14:13:45.660526",
     "status": "completed"
    },
    "tags": []
   },
   "outputs": [],
   "source": [
    "clip_weight = 0.25\n",
    "vit_weight = 0.75"
   ]
  },
  {
   "cell_type": "code",
   "execution_count": 31,
   "id": "3bc2dba3",
   "metadata": {
    "execution": {
     "iopub.execute_input": "2023-05-08T14:13:45.695385Z",
     "iopub.status.busy": "2023-05-08T14:13:45.694538Z",
     "iopub.status.idle": "2023-05-08T14:13:45.699604Z",
     "shell.execute_reply": "2023-05-08T14:13:45.698769Z"
    },
    "papermill": {
     "duration": 0.016639,
     "end_time": "2023-05-08T14:13:45.701595",
     "exception": false,
     "start_time": "2023-05-08T14:13:45.684956",
     "status": "completed"
    },
    "tags": []
   },
   "outputs": [],
   "source": [
    "final_embeddings = (clip_weight * clip_embeddings) + (vit_weight * prompt_embeddings)"
   ]
  },
  {
   "cell_type": "code",
   "execution_count": 32,
   "id": "d571d479",
   "metadata": {
    "execution": {
     "iopub.execute_input": "2023-05-08T14:13:45.721022Z",
     "iopub.status.busy": "2023-05-08T14:13:45.719551Z",
     "iopub.status.idle": "2023-05-08T14:13:45.726085Z",
     "shell.execute_reply": "2023-05-08T14:13:45.725160Z"
    },
    "papermill": {
     "duration": 0.017913,
     "end_time": "2023-05-08T14:13:45.728230",
     "exception": false,
     "start_time": "2023-05-08T14:13:45.710317",
     "status": "completed"
    },
    "tags": []
   },
   "outputs": [
    {
     "data": {
      "text/plain": [
       "2688"
      ]
     },
     "execution_count": 32,
     "metadata": {},
     "output_type": "execute_result"
    }
   ],
   "source": [
    "len(final_embeddings)"
   ]
  },
  {
   "cell_type": "code",
   "execution_count": 33,
   "id": "4cc15cf0",
   "metadata": {
    "execution": {
     "iopub.execute_input": "2023-05-08T14:13:45.747368Z",
     "iopub.status.busy": "2023-05-08T14:13:45.745725Z",
     "iopub.status.idle": "2023-05-08T14:13:45.752401Z",
     "shell.execute_reply": "2023-05-08T14:13:45.751549Z"
    },
    "papermill": {
     "duration": 0.017799,
     "end_time": "2023-05-08T14:13:45.754366",
     "exception": false,
     "start_time": "2023-05-08T14:13:45.736567",
     "status": "completed"
    },
    "tags": []
   },
   "outputs": [],
   "source": [
    "submission = pd.DataFrame(\n",
    "    index=imgId_eId,\n",
    "    data=final_embeddings,\n",
    "    columns=['val']\n",
    ").rename_axis('imgId_eId')"
   ]
  },
  {
   "cell_type": "code",
   "execution_count": 34,
   "id": "996c547b",
   "metadata": {
    "execution": {
     "iopub.execute_input": "2023-05-08T14:13:45.773267Z",
     "iopub.status.busy": "2023-05-08T14:13:45.772380Z",
     "iopub.status.idle": "2023-05-08T14:13:45.784503Z",
     "shell.execute_reply": "2023-05-08T14:13:45.783631Z"
    },
    "papermill": {
     "duration": 0.023961,
     "end_time": "2023-05-08T14:13:45.786683",
     "exception": false,
     "start_time": "2023-05-08T14:13:45.762722",
     "status": "completed"
    },
    "tags": []
   },
   "outputs": [],
   "source": [
    "submission.to_csv('submission.csv')"
   ]
  },
  {
   "cell_type": "code",
   "execution_count": 35,
   "id": "52648d85",
   "metadata": {
    "execution": {
     "iopub.execute_input": "2023-05-08T14:13:45.805508Z",
     "iopub.status.busy": "2023-05-08T14:13:45.804838Z",
     "iopub.status.idle": "2023-05-08T14:13:45.817172Z",
     "shell.execute_reply": "2023-05-08T14:13:45.816168Z"
    },
    "papermill": {
     "duration": 0.023542,
     "end_time": "2023-05-08T14:13:45.819209",
     "exception": false,
     "start_time": "2023-05-08T14:13:45.795667",
     "status": "completed"
    },
    "tags": []
   },
   "outputs": [
    {
     "data": {
      "text/html": [
       "<div>\n",
       "<style scoped>\n",
       "    .dataframe tbody tr th:only-of-type {\n",
       "        vertical-align: middle;\n",
       "    }\n",
       "\n",
       "    .dataframe tbody tr th {\n",
       "        vertical-align: top;\n",
       "    }\n",
       "\n",
       "    .dataframe thead th {\n",
       "        text-align: right;\n",
       "    }\n",
       "</style>\n",
       "<table border=\"1\" class=\"dataframe\">\n",
       "  <thead>\n",
       "    <tr style=\"text-align: right;\">\n",
       "      <th></th>\n",
       "      <th>val</th>\n",
       "    </tr>\n",
       "    <tr>\n",
       "      <th>imgId_eId</th>\n",
       "      <th></th>\n",
       "    </tr>\n",
       "  </thead>\n",
       "  <tbody>\n",
       "    <tr>\n",
       "      <th>f27825b2c_0</th>\n",
       "      <td>-1.244370</td>\n",
       "    </tr>\n",
       "    <tr>\n",
       "      <th>f27825b2c_1</th>\n",
       "      <td>1.671970</td>\n",
       "    </tr>\n",
       "    <tr>\n",
       "      <th>f27825b2c_2</th>\n",
       "      <td>-1.163932</td>\n",
       "    </tr>\n",
       "    <tr>\n",
       "      <th>f27825b2c_3</th>\n",
       "      <td>0.959149</td>\n",
       "    </tr>\n",
       "    <tr>\n",
       "      <th>f27825b2c_4</th>\n",
       "      <td>-0.874024</td>\n",
       "    </tr>\n",
       "    <tr>\n",
       "      <th>...</th>\n",
       "      <td>...</td>\n",
       "    </tr>\n",
       "    <tr>\n",
       "      <th>c98f79f71_379</th>\n",
       "      <td>0.406330</td>\n",
       "    </tr>\n",
       "    <tr>\n",
       "      <th>c98f79f71_380</th>\n",
       "      <td>7.430394</td>\n",
       "    </tr>\n",
       "    <tr>\n",
       "      <th>c98f79f71_381</th>\n",
       "      <td>1.012362</td>\n",
       "    </tr>\n",
       "    <tr>\n",
       "      <th>c98f79f71_382</th>\n",
       "      <td>-1.398369</td>\n",
       "    </tr>\n",
       "    <tr>\n",
       "      <th>c98f79f71_383</th>\n",
       "      <td>1.568080</td>\n",
       "    </tr>\n",
       "  </tbody>\n",
       "</table>\n",
       "<p>2688 rows × 1 columns</p>\n",
       "</div>"
      ],
      "text/plain": [
       "                    val\n",
       "imgId_eId              \n",
       "f27825b2c_0   -1.244370\n",
       "f27825b2c_1    1.671970\n",
       "f27825b2c_2   -1.163932\n",
       "f27825b2c_3    0.959149\n",
       "f27825b2c_4   -0.874024\n",
       "...                 ...\n",
       "c98f79f71_379  0.406330\n",
       "c98f79f71_380  7.430394\n",
       "c98f79f71_381  1.012362\n",
       "c98f79f71_382 -1.398369\n",
       "c98f79f71_383  1.568080\n",
       "\n",
       "[2688 rows x 1 columns]"
      ]
     },
     "execution_count": 35,
     "metadata": {},
     "output_type": "execute_result"
    }
   ],
   "source": [
    "submission"
   ]
  },
  {
   "cell_type": "code",
   "execution_count": null,
   "id": "ce07783a",
   "metadata": {
    "papermill": {
     "duration": 0.008388,
     "end_time": "2023-05-08T14:13:45.836569",
     "exception": false,
     "start_time": "2023-05-08T14:13:45.828181",
     "status": "completed"
    },
    "tags": []
   },
   "outputs": [],
   "source": []
  }
 ],
 "metadata": {
  "kernelspec": {
   "display_name": "Python 3",
   "language": "python",
   "name": "python3"
  },
  "language_info": {
   "codemirror_mode": {
    "name": "ipython",
    "version": 3
   },
   "file_extension": ".py",
   "mimetype": "text/x-python",
   "name": "python",
   "nbconvert_exporter": "python",
   "pygments_lexer": "ipython3",
   "version": "3.7.12"
  },
  "papermill": {
   "default_parameters": {},
   "duration": 150.339916,
   "end_time": "2023-05-08T14:13:49.353611",
   "environment_variables": {},
   "exception": null,
   "input_path": "__notebook__.ipynb",
   "output_path": "__notebook__.ipynb",
   "parameters": {},
   "start_time": "2023-05-08T14:11:19.013695",
   "version": "2.3.4"
  },
  "widgets": {
   "application/vnd.jupyter.widget-state+json": {
    "state": {
     "00cc3fa82ddd49d19ac0abfbb4b0efce": {
      "model_module": "@jupyter-widgets/controls",
      "model_module_version": "1.5.0",
      "model_name": "HBoxModel",
      "state": {
       "_dom_classes": [],
       "_model_module": "@jupyter-widgets/controls",
       "_model_module_version": "1.5.0",
       "_model_name": "HBoxModel",
       "_view_count": null,
       "_view_module": "@jupyter-widgets/controls",
       "_view_module_version": "1.5.0",
       "_view_name": "HBoxView",
       "box_style": "",
       "children": [
        "IPY_MODEL_c3c6adb3007f4259a19ab186b3284b66",
        "IPY_MODEL_3d8530257051494695722ec51c416624",
        "IPY_MODEL_06dd1850e582497f8b87fddd65ef40b9"
       ],
       "layout": "IPY_MODEL_e3b3260f52bf44e3a06f57f88d0c3101"
      }
     },
     "06dd1850e582497f8b87fddd65ef40b9": {
      "model_module": "@jupyter-widgets/controls",
      "model_module_version": "1.5.0",
      "model_name": "HTMLModel",
      "state": {
       "_dom_classes": [],
       "_model_module": "@jupyter-widgets/controls",
       "_model_module_version": "1.5.0",
       "_model_name": "HTMLModel",
       "_view_count": null,
       "_view_module": "@jupyter-widgets/controls",
       "_view_module_version": "1.5.0",
       "_view_name": "HTMLView",
       "description": "",
       "description_tooltip": null,
       "layout": "IPY_MODEL_a49148697ad94a7086638862020174f8",
       "placeholder": "​",
       "style": "IPY_MODEL_5c8913754cf944ff8053bef809d2c300",
       "value": " 1/1 [00:00&lt;00:00,  3.05it/s]"
      }
     },
     "12b520e7f4f34a5a90ad5a3274795a47": {
      "model_module": "@jupyter-widgets/base",
      "model_module_version": "1.2.0",
      "model_name": "LayoutModel",
      "state": {
       "_model_module": "@jupyter-widgets/base",
       "_model_module_version": "1.2.0",
       "_model_name": "LayoutModel",
       "_view_count": null,
       "_view_module": "@jupyter-widgets/base",
       "_view_module_version": "1.2.0",
       "_view_name": "LayoutView",
       "align_content": null,
       "align_items": null,
       "align_self": null,
       "border": null,
       "bottom": null,
       "display": null,
       "flex": null,
       "flex_flow": null,
       "grid_area": null,
       "grid_auto_columns": null,
       "grid_auto_flow": null,
       "grid_auto_rows": null,
       "grid_column": null,
       "grid_gap": null,
       "grid_row": null,
       "grid_template_areas": null,
       "grid_template_columns": null,
       "grid_template_rows": null,
       "height": null,
       "justify_content": null,
       "justify_items": null,
       "left": null,
       "margin": null,
       "max_height": null,
       "max_width": null,
       "min_height": null,
       "min_width": null,
       "object_fit": null,
       "object_position": null,
       "order": null,
       "overflow": null,
       "overflow_x": null,
       "overflow_y": null,
       "padding": null,
       "right": null,
       "top": null,
       "visibility": null,
       "width": null
      }
     },
     "2862a1ad7a734e58bb4e0fbbb5ea3735": {
      "model_module": "@jupyter-widgets/base",
      "model_module_version": "1.2.0",
      "model_name": "LayoutModel",
      "state": {
       "_model_module": "@jupyter-widgets/base",
       "_model_module_version": "1.2.0",
       "_model_name": "LayoutModel",
       "_view_count": null,
       "_view_module": "@jupyter-widgets/base",
       "_view_module_version": "1.2.0",
       "_view_name": "LayoutView",
       "align_content": null,
       "align_items": null,
       "align_self": null,
       "border": null,
       "bottom": null,
       "display": null,
       "flex": null,
       "flex_flow": null,
       "grid_area": null,
       "grid_auto_columns": null,
       "grid_auto_flow": null,
       "grid_auto_rows": null,
       "grid_column": null,
       "grid_gap": null,
       "grid_row": null,
       "grid_template_areas": null,
       "grid_template_columns": null,
       "grid_template_rows": null,
       "height": null,
       "justify_content": null,
       "justify_items": null,
       "left": null,
       "margin": null,
       "max_height": null,
       "max_width": null,
       "min_height": null,
       "min_width": null,
       "object_fit": null,
       "object_position": null,
       "order": null,
       "overflow": null,
       "overflow_x": null,
       "overflow_y": null,
       "padding": null,
       "right": null,
       "top": null,
       "visibility": null,
       "width": null
      }
     },
     "368d43442dfd414db23c1836f82477d9": {
      "model_module": "@jupyter-widgets/base",
      "model_module_version": "1.2.0",
      "model_name": "LayoutModel",
      "state": {
       "_model_module": "@jupyter-widgets/base",
       "_model_module_version": "1.2.0",
       "_model_name": "LayoutModel",
       "_view_count": null,
       "_view_module": "@jupyter-widgets/base",
       "_view_module_version": "1.2.0",
       "_view_name": "LayoutView",
       "align_content": null,
       "align_items": null,
       "align_self": null,
       "border": null,
       "bottom": null,
       "display": null,
       "flex": null,
       "flex_flow": null,
       "grid_area": null,
       "grid_auto_columns": null,
       "grid_auto_flow": null,
       "grid_auto_rows": null,
       "grid_column": null,
       "grid_gap": null,
       "grid_row": null,
       "grid_template_areas": null,
       "grid_template_columns": null,
       "grid_template_rows": null,
       "height": null,
       "justify_content": null,
       "justify_items": null,
       "left": null,
       "margin": null,
       "max_height": null,
       "max_width": null,
       "min_height": null,
       "min_width": null,
       "object_fit": null,
       "object_position": null,
       "order": null,
       "overflow": null,
       "overflow_x": null,
       "overflow_y": null,
       "padding": null,
       "right": null,
       "top": null,
       "visibility": null,
       "width": null
      }
     },
     "3a2794b1ace44902963311a6cacc5e87": {
      "model_module": "@jupyter-widgets/controls",
      "model_module_version": "1.5.0",
      "model_name": "DescriptionStyleModel",
      "state": {
       "_model_module": "@jupyter-widgets/controls",
       "_model_module_version": "1.5.0",
       "_model_name": "DescriptionStyleModel",
       "_view_count": null,
       "_view_module": "@jupyter-widgets/base",
       "_view_module_version": "1.2.0",
       "_view_name": "StyleView",
       "description_width": ""
      }
     },
     "3d8530257051494695722ec51c416624": {
      "model_module": "@jupyter-widgets/controls",
      "model_module_version": "1.5.0",
      "model_name": "FloatProgressModel",
      "state": {
       "_dom_classes": [],
       "_model_module": "@jupyter-widgets/controls",
       "_model_module_version": "1.5.0",
       "_model_name": "FloatProgressModel",
       "_view_count": null,
       "_view_module": "@jupyter-widgets/controls",
       "_view_module_version": "1.5.0",
       "_view_name": "ProgressView",
       "bar_style": "",
       "description": "",
       "description_tooltip": null,
       "layout": "IPY_MODEL_12b520e7f4f34a5a90ad5a3274795a47",
       "max": 1.0,
       "min": 0.0,
       "orientation": "horizontal",
       "style": "IPY_MODEL_536fb291e2c446b4b3c8ca2c29a2475f",
       "value": 1.0
      }
     },
     "51e5c53c5fea43d4ba17a4aa969e6708": {
      "model_module": "@jupyter-widgets/controls",
      "model_module_version": "1.5.0",
      "model_name": "HTMLModel",
      "state": {
       "_dom_classes": [],
       "_model_module": "@jupyter-widgets/controls",
       "_model_module_version": "1.5.0",
       "_model_name": "HTMLModel",
       "_view_count": null,
       "_view_module": "@jupyter-widgets/controls",
       "_view_module_version": "1.5.0",
       "_view_name": "HTMLView",
       "description": "",
       "description_tooltip": null,
       "layout": "IPY_MODEL_368d43442dfd414db23c1836f82477d9",
       "placeholder": "​",
       "style": "IPY_MODEL_3a2794b1ace44902963311a6cacc5e87",
       "value": "Batches: 100%"
      }
     },
     "536fb291e2c446b4b3c8ca2c29a2475f": {
      "model_module": "@jupyter-widgets/controls",
      "model_module_version": "1.5.0",
      "model_name": "ProgressStyleModel",
      "state": {
       "_model_module": "@jupyter-widgets/controls",
       "_model_module_version": "1.5.0",
       "_model_name": "ProgressStyleModel",
       "_view_count": null,
       "_view_module": "@jupyter-widgets/base",
       "_view_module_version": "1.2.0",
       "_view_name": "StyleView",
       "bar_color": null,
       "description_width": ""
      }
     },
     "58aad7225a63497ea129966eb24cf020": {
      "model_module": "@jupyter-widgets/controls",
      "model_module_version": "1.5.0",
      "model_name": "HBoxModel",
      "state": {
       "_dom_classes": [],
       "_model_module": "@jupyter-widgets/controls",
       "_model_module_version": "1.5.0",
       "_model_name": "HBoxModel",
       "_view_count": null,
       "_view_module": "@jupyter-widgets/controls",
       "_view_module_version": "1.5.0",
       "_view_name": "HBoxView",
       "box_style": "",
       "children": [
        "IPY_MODEL_51e5c53c5fea43d4ba17a4aa969e6708",
        "IPY_MODEL_7e9f38ef94574e58878ea836520029e9",
        "IPY_MODEL_8c645d33b20044ada0b57f4c74d5b761"
       ],
       "layout": "IPY_MODEL_2862a1ad7a734e58bb4e0fbbb5ea3735"
      }
     },
     "5c8913754cf944ff8053bef809d2c300": {
      "model_module": "@jupyter-widgets/controls",
      "model_module_version": "1.5.0",
      "model_name": "DescriptionStyleModel",
      "state": {
       "_model_module": "@jupyter-widgets/controls",
       "_model_module_version": "1.5.0",
       "_model_name": "DescriptionStyleModel",
       "_view_count": null,
       "_view_module": "@jupyter-widgets/base",
       "_view_module_version": "1.2.0",
       "_view_name": "StyleView",
       "description_width": ""
      }
     },
     "7e9f38ef94574e58878ea836520029e9": {
      "model_module": "@jupyter-widgets/controls",
      "model_module_version": "1.5.0",
      "model_name": "FloatProgressModel",
      "state": {
       "_dom_classes": [],
       "_model_module": "@jupyter-widgets/controls",
       "_model_module_version": "1.5.0",
       "_model_name": "FloatProgressModel",
       "_view_count": null,
       "_view_module": "@jupyter-widgets/controls",
       "_view_module_version": "1.5.0",
       "_view_name": "ProgressView",
       "bar_style": "success",
       "description": "",
       "description_tooltip": null,
       "layout": "IPY_MODEL_8498195ad9f44eb4a7ef7e6d865ff0cf",
       "max": 1.0,
       "min": 0.0,
       "orientation": "horizontal",
       "style": "IPY_MODEL_cb12613313154aa497ac34c26b0b0c2c",
       "value": 1.0
      }
     },
     "8498195ad9f44eb4a7ef7e6d865ff0cf": {
      "model_module": "@jupyter-widgets/base",
      "model_module_version": "1.2.0",
      "model_name": "LayoutModel",
      "state": {
       "_model_module": "@jupyter-widgets/base",
       "_model_module_version": "1.2.0",
       "_model_name": "LayoutModel",
       "_view_count": null,
       "_view_module": "@jupyter-widgets/base",
       "_view_module_version": "1.2.0",
       "_view_name": "LayoutView",
       "align_content": null,
       "align_items": null,
       "align_self": null,
       "border": null,
       "bottom": null,
       "display": null,
       "flex": null,
       "flex_flow": null,
       "grid_area": null,
       "grid_auto_columns": null,
       "grid_auto_flow": null,
       "grid_auto_rows": null,
       "grid_column": null,
       "grid_gap": null,
       "grid_row": null,
       "grid_template_areas": null,
       "grid_template_columns": null,
       "grid_template_rows": null,
       "height": null,
       "justify_content": null,
       "justify_items": null,
       "left": null,
       "margin": null,
       "max_height": null,
       "max_width": null,
       "min_height": null,
       "min_width": null,
       "object_fit": null,
       "object_position": null,
       "order": null,
       "overflow": null,
       "overflow_x": null,
       "overflow_y": null,
       "padding": null,
       "right": null,
       "top": null,
       "visibility": null,
       "width": null
      }
     },
     "8c645d33b20044ada0b57f4c74d5b761": {
      "model_module": "@jupyter-widgets/controls",
      "model_module_version": "1.5.0",
      "model_name": "HTMLModel",
      "state": {
       "_dom_classes": [],
       "_model_module": "@jupyter-widgets/controls",
       "_model_module_version": "1.5.0",
       "_model_name": "HTMLModel",
       "_view_count": null,
       "_view_module": "@jupyter-widgets/controls",
       "_view_module_version": "1.5.0",
       "_view_name": "HTMLView",
       "description": "",
       "description_tooltip": null,
       "layout": "IPY_MODEL_fc1e51358f4b47f18e80d457c3960d7c",
       "placeholder": "​",
       "style": "IPY_MODEL_c69cb123a3d944fe86bc8fc7b29cac59",
       "value": " 1/1 [00:00&lt;00:00, 15.19it/s]"
      }
     },
     "a49148697ad94a7086638862020174f8": {
      "model_module": "@jupyter-widgets/base",
      "model_module_version": "1.2.0",
      "model_name": "LayoutModel",
      "state": {
       "_model_module": "@jupyter-widgets/base",
       "_model_module_version": "1.2.0",
       "_model_name": "LayoutModel",
       "_view_count": null,
       "_view_module": "@jupyter-widgets/base",
       "_view_module_version": "1.2.0",
       "_view_name": "LayoutView",
       "align_content": null,
       "align_items": null,
       "align_self": null,
       "border": null,
       "bottom": null,
       "display": null,
       "flex": null,
       "flex_flow": null,
       "grid_area": null,
       "grid_auto_columns": null,
       "grid_auto_flow": null,
       "grid_auto_rows": null,
       "grid_column": null,
       "grid_gap": null,
       "grid_row": null,
       "grid_template_areas": null,
       "grid_template_columns": null,
       "grid_template_rows": null,
       "height": null,
       "justify_content": null,
       "justify_items": null,
       "left": null,
       "margin": null,
       "max_height": null,
       "max_width": null,
       "min_height": null,
       "min_width": null,
       "object_fit": null,
       "object_position": null,
       "order": null,
       "overflow": null,
       "overflow_x": null,
       "overflow_y": null,
       "padding": null,
       "right": null,
       "top": null,
       "visibility": null,
       "width": null
      }
     },
     "c2261cac4db64de5841b5cdaa237f0e5": {
      "model_module": "@jupyter-widgets/base",
      "model_module_version": "1.2.0",
      "model_name": "LayoutModel",
      "state": {
       "_model_module": "@jupyter-widgets/base",
       "_model_module_version": "1.2.0",
       "_model_name": "LayoutModel",
       "_view_count": null,
       "_view_module": "@jupyter-widgets/base",
       "_view_module_version": "1.2.0",
       "_view_name": "LayoutView",
       "align_content": null,
       "align_items": null,
       "align_self": null,
       "border": null,
       "bottom": null,
       "display": null,
       "flex": null,
       "flex_flow": null,
       "grid_area": null,
       "grid_auto_columns": null,
       "grid_auto_flow": null,
       "grid_auto_rows": null,
       "grid_column": null,
       "grid_gap": null,
       "grid_row": null,
       "grid_template_areas": null,
       "grid_template_columns": null,
       "grid_template_rows": null,
       "height": null,
       "justify_content": null,
       "justify_items": null,
       "left": null,
       "margin": null,
       "max_height": null,
       "max_width": null,
       "min_height": null,
       "min_width": null,
       "object_fit": null,
       "object_position": null,
       "order": null,
       "overflow": null,
       "overflow_x": null,
       "overflow_y": null,
       "padding": null,
       "right": null,
       "top": null,
       "visibility": null,
       "width": null
      }
     },
     "c3c6adb3007f4259a19ab186b3284b66": {
      "model_module": "@jupyter-widgets/controls",
      "model_module_version": "1.5.0",
      "model_name": "HTMLModel",
      "state": {
       "_dom_classes": [],
       "_model_module": "@jupyter-widgets/controls",
       "_model_module_version": "1.5.0",
       "_model_name": "HTMLModel",
       "_view_count": null,
       "_view_module": "@jupyter-widgets/controls",
       "_view_module_version": "1.5.0",
       "_view_name": "HTMLView",
       "description": "",
       "description_tooltip": null,
       "layout": "IPY_MODEL_c2261cac4db64de5841b5cdaa237f0e5",
       "placeholder": "​",
       "style": "IPY_MODEL_c58fe3fe82bb4ae3ae7549b463e7ae67",
       "value": "100%"
      }
     },
     "c58fe3fe82bb4ae3ae7549b463e7ae67": {
      "model_module": "@jupyter-widgets/controls",
      "model_module_version": "1.5.0",
      "model_name": "DescriptionStyleModel",
      "state": {
       "_model_module": "@jupyter-widgets/controls",
       "_model_module_version": "1.5.0",
       "_model_name": "DescriptionStyleModel",
       "_view_count": null,
       "_view_module": "@jupyter-widgets/base",
       "_view_module_version": "1.2.0",
       "_view_name": "StyleView",
       "description_width": ""
      }
     },
     "c69cb123a3d944fe86bc8fc7b29cac59": {
      "model_module": "@jupyter-widgets/controls",
      "model_module_version": "1.5.0",
      "model_name": "DescriptionStyleModel",
      "state": {
       "_model_module": "@jupyter-widgets/controls",
       "_model_module_version": "1.5.0",
       "_model_name": "DescriptionStyleModel",
       "_view_count": null,
       "_view_module": "@jupyter-widgets/base",
       "_view_module_version": "1.2.0",
       "_view_name": "StyleView",
       "description_width": ""
      }
     },
     "cb12613313154aa497ac34c26b0b0c2c": {
      "model_module": "@jupyter-widgets/controls",
      "model_module_version": "1.5.0",
      "model_name": "ProgressStyleModel",
      "state": {
       "_model_module": "@jupyter-widgets/controls",
       "_model_module_version": "1.5.0",
       "_model_name": "ProgressStyleModel",
       "_view_count": null,
       "_view_module": "@jupyter-widgets/base",
       "_view_module_version": "1.2.0",
       "_view_name": "StyleView",
       "bar_color": null,
       "description_width": ""
      }
     },
     "e3b3260f52bf44e3a06f57f88d0c3101": {
      "model_module": "@jupyter-widgets/base",
      "model_module_version": "1.2.0",
      "model_name": "LayoutModel",
      "state": {
       "_model_module": "@jupyter-widgets/base",
       "_model_module_version": "1.2.0",
       "_model_name": "LayoutModel",
       "_view_count": null,
       "_view_module": "@jupyter-widgets/base",
       "_view_module_version": "1.2.0",
       "_view_name": "LayoutView",
       "align_content": null,
       "align_items": null,
       "align_self": null,
       "border": null,
       "bottom": null,
       "display": null,
       "flex": null,
       "flex_flow": null,
       "grid_area": null,
       "grid_auto_columns": null,
       "grid_auto_flow": null,
       "grid_auto_rows": null,
       "grid_column": null,
       "grid_gap": null,
       "grid_row": null,
       "grid_template_areas": null,
       "grid_template_columns": null,
       "grid_template_rows": null,
       "height": null,
       "justify_content": null,
       "justify_items": null,
       "left": null,
       "margin": null,
       "max_height": null,
       "max_width": null,
       "min_height": null,
       "min_width": null,
       "object_fit": null,
       "object_position": null,
       "order": null,
       "overflow": null,
       "overflow_x": null,
       "overflow_y": null,
       "padding": null,
       "right": null,
       "top": null,
       "visibility": null,
       "width": null
      }
     },
     "fc1e51358f4b47f18e80d457c3960d7c": {
      "model_module": "@jupyter-widgets/base",
      "model_module_version": "1.2.0",
      "model_name": "LayoutModel",
      "state": {
       "_model_module": "@jupyter-widgets/base",
       "_model_module_version": "1.2.0",
       "_model_name": "LayoutModel",
       "_view_count": null,
       "_view_module": "@jupyter-widgets/base",
       "_view_module_version": "1.2.0",
       "_view_name": "LayoutView",
       "align_content": null,
       "align_items": null,
       "align_self": null,
       "border": null,
       "bottom": null,
       "display": null,
       "flex": null,
       "flex_flow": null,
       "grid_area": null,
       "grid_auto_columns": null,
       "grid_auto_flow": null,
       "grid_auto_rows": null,
       "grid_column": null,
       "grid_gap": null,
       "grid_row": null,
       "grid_template_areas": null,
       "grid_template_columns": null,
       "grid_template_rows": null,
       "height": null,
       "justify_content": null,
       "justify_items": null,
       "left": null,
       "margin": null,
       "max_height": null,
       "max_width": null,
       "min_height": null,
       "min_width": null,
       "object_fit": null,
       "object_position": null,
       "order": null,
       "overflow": null,
       "overflow_x": null,
       "overflow_y": null,
       "padding": null,
       "right": null,
       "top": null,
       "visibility": null,
       "width": null
      }
     }
    },
    "version_major": 2,
    "version_minor": 0
   }
  }
 },
 "nbformat": 4,
 "nbformat_minor": 5
}
